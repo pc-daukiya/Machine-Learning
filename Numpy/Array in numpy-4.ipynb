{
 "cells": [
  {
   "cell_type": "markdown",
   "id": "0b3eb278-b93e-4f78-b421-8d596857b833",
   "metadata": {},
   "source": [
    "Copy Vs View"
   ]
  },
  {
   "cell_type": "code",
   "execution_count": 19,
   "id": "70191b57-8522-498e-94e6-ec38a10e3000",
   "metadata": {},
   "outputs": [
    {
     "name": "stdout",
     "output_type": "stream",
     "text": [
      "\n",
      "var:  [ 1  2 23  5  6  7  4  4]\n",
      "copy:  [1 2 3 5 6 7 4 4]\n"
     ]
    }
   ],
   "source": [
    "import numpy as np\n",
    "var = np.array([1,2,3,5,6,7,4,4])\n",
    "co = var.copy()\n",
    "var[2] = 23 #Data add after copy data\n",
    "\n",
    "print()\n",
    "print(\"var: \",var)\n",
    "print(\"copy: \",co)"
   ]
  },
  {
   "cell_type": "code",
   "execution_count": 20,
   "id": "2e7356c2-3c87-4a1c-b8d2-a9d73c43847e",
   "metadata": {},
   "outputs": [
    {
     "name": "stdout",
     "output_type": "stream",
     "text": [
      "x:  [ 9  8 23  6  5  4  5  6  7  3  3  2  1]\n",
      "view:  [ 9  8 23  6  5  4  5  6  7  3  3  2  1]\n"
     ]
    }
   ],
   "source": [
    "x = np.array([9,8,7,6,5,4,5,6,7,3,3,2,1])\n",
    "\n",
    "vi = x.view()\n",
    "\n",
    "x[2] = 23\n",
    "print(\"x: \",x)\n",
    "print(\"view: \",vi)"
   ]
  },
  {
   "cell_type": "markdown",
   "id": "3be0f70d-dec8-4d30-90c6-08a772eaafc3",
   "metadata": {},
   "source": [
    "Join Array"
   ]
  },
  {
   "cell_type": "code",
   "execution_count": 21,
   "id": "0d460246-a07a-4a1d-be44-18441a309aea",
   "metadata": {},
   "outputs": [
    {
     "name": "stdout",
     "output_type": "stream",
     "text": [
      "[ 1  2  3  4  5 12 45 56 65]\n"
     ]
    }
   ],
   "source": [
    "arr1 = np.array([1,2,3,4,5])\n",
    "arr2 = np.array([12,45,56,65])\n",
    "\n",
    "arr = np.concatenate((arr1,arr2))\n",
    "print(arr)"
   ]
  },
  {
   "cell_type": "code",
   "execution_count": 23,
   "id": "0358cd77-e0c4-4fd5-b574-755a66407de3",
   "metadata": {},
   "outputs": [
    {
     "name": "stdout",
     "output_type": "stream",
     "text": [
      "[ 1  2  3  4  5 12 45 56 65]\n"
     ]
    }
   ],
   "source": [
    "arr_1 = np.array([1,2,3,4,5])\n",
    "arr_2 = np.array([12,45,56,65])\n",
    "\n",
    "arr_ = np.concatenate((arr_1,arr_2), axis=0)\n",
    "\n",
    "print(arr_)"
   ]
  },
  {
   "cell_type": "code",
   "execution_count": 24,
   "id": "98418fc8-db24-48b7-bf38-493c6bffe02c",
   "metadata": {},
   "outputs": [
    {
     "name": "stdout",
     "output_type": "stream",
     "text": [
      "[[ 1  2  3  4  5]\n",
      " [ 6  7  8  9  2]\n",
      " [11 21 13 41 15]\n",
      " [61 17 81 19 21]]\n"
     ]
    }
   ],
   "source": [
    "arr_3 = np.array([[1,2,3,4,5],[6,7,8,9,2]])\n",
    "arr_4 = np.array([[11,21,13,41,15],[61,17,81,19,21]])\n",
    "\n",
    "arr__ = np.concatenate((arr_3, arr_4), axis =0)\n",
    "print(arr__)"
   ]
  },
  {
   "cell_type": "code",
   "execution_count": 31,
   "id": "0d28c4e4-819c-4b70-8429-fad8b57b03ff",
   "metadata": {},
   "outputs": [
    {
     "name": "stdout",
     "output_type": "stream",
     "text": [
      "[[11 21 31 41 51]\n",
      " [61 71 81 91 21]\n",
      " [11 21 13 41 15]\n",
      " [61 17 81 19 21]]\n",
      "2\n"
     ]
    }
   ],
   "source": [
    "arr_5 = np.array([[11,21,31,41,51],[61,71,81,91,21]])\n",
    "arr_6 = np.array([[11,21,13,41,15],[61,17,81,19,21]])\n",
    "\n",
    "arr___ =np.stack((arr_5,arr_6), axis=0)\n",
    "print(arr___)\n",
    "print(arr___.ndim)\n"
   ]
  },
  {
   "cell_type": "code",
   "execution_count": 40,
   "id": "32adf9e0-6488-4ca9-9d16-bdf48890809d",
   "metadata": {},
   "outputs": [
    {
     "name": "stdout",
     "output_type": "stream",
     "text": [
      "[[11 21 31 41 51]\n",
      " [61 71 81 91 21]\n",
      " [11 21 13 41 15]\n",
      " [61 17 81 19 21]]\n",
      "2\n",
      "[[11 21 31 41 51 11 21 13 41 15]\n",
      " [61 71 81 91 21 61 17 81 19 21]]\n",
      "2\n",
      "[[[11 11]\n",
      "  [21 21]\n",
      "  [31 13]\n",
      "  [41 41]\n",
      "  [51 15]]\n",
      "\n",
      " [[61 61]\n",
      "  [71 17]\n",
      "  [81 81]\n",
      "  [91 19]\n",
      "  [21 21]]]\n",
      "3\n"
     ]
    }
   ],
   "source": [
    "ar_7 = np.array([[11,21,31,41,51],[61,71,81,91,21]])\n",
    "ar_8 = np.array([[11,21,13,41,15],[61,17,81,19,21]])\n",
    "\n",
    "ar1__ =np.vstack((arr_7,arr_8)) #Its work Along Column\n",
    "print(ar1__)\n",
    "print(ar1__.ndim)\n",
    "\n",
    "ar2__ =np.hstack((arr_7,arr_8)) #Its work Along row\n",
    "print(ar2__)\n",
    "print(ar2__.ndim)\n",
    "\n",
    "ar3__ =np.dstack((arr_7,arr_8)) #Its work Along height\n",
    "print(ar3__)\n",
    "print(ar3__.ndim)"
   ]
  },
  {
   "cell_type": "code",
   "execution_count": null,
   "id": "fc709625-fc5b-47e8-9960-e0da9c7400ba",
   "metadata": {},
   "outputs": [],
   "source": []
  }
 ],
 "metadata": {
  "kernelspec": {
   "display_name": "Python 3 (ipykernel)",
   "language": "python",
   "name": "python3"
  },
  "language_info": {
   "codemirror_mode": {
    "name": "ipython",
    "version": 3
   },
   "file_extension": ".py",
   "mimetype": "text/x-python",
   "name": "python",
   "nbconvert_exporter": "python",
   "pygments_lexer": "ipython3",
   "version": "3.12.4"
  }
 },
 "nbformat": 4,
 "nbformat_minor": 5
}
