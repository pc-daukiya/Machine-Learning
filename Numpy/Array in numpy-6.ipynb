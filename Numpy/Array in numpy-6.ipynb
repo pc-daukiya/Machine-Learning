{
 "cells": [
  {
   "cell_type": "markdown",
   "id": "9c025951-721f-4181-a308-24912891100d",
   "metadata": {},
   "source": [
    "Shuffle, Unique, Resize, Flatten, Ravel Functions "
   ]
  },
  {
   "cell_type": "code",
   "execution_count": 19,
   "id": "3aad195d-e02b-49a6-a5d4-91bdc7597f40",
   "metadata": {},
   "outputs": [
    {
     "name": "stdout",
     "output_type": "stream",
     "text": [
      "[1 5 4 3 2]\n"
     ]
    }
   ],
   "source": [
    "import numpy as np\n",
    "v1 = np.array([1,2,3,4,5])\n",
    "\n",
    "np.random.shuffle(v1)\n",
    "print(v1)"
   ]
  },
  {
   "cell_type": "code",
   "execution_count": 21,
   "id": "13009a48-3616-4dfc-9d1b-00d8c73f3801",
   "metadata": {},
   "outputs": [
    {
     "name": "stdout",
     "output_type": "stream",
     "text": [
      "[1 2 3 4 5 6 7 8]\n"
     ]
    }
   ],
   "source": [
    "v2 = np.array([1,2,3,4,5,3,4,2,3,4,5,6,6,7,8,2,3,1,2,3,4,5,6])\n",
    "x2 =np.unique(v2)\n",
    "print(x2)\n"
   ]
  },
  {
   "cell_type": "code",
   "execution_count": 24,
   "id": "ddf3154c-585f-465e-8bd2-245c97425110",
   "metadata": {},
   "outputs": [
    {
     "name": "stdout",
     "output_type": "stream",
     "text": [
      "(array([1, 2, 3, 4, 5, 6, 7, 8]), array([ 0,  1,  2,  3,  4, 11, 13, 14], dtype=int64), array([2, 4, 5, 4, 3, 3, 1, 1], dtype=int64))\n"
     ]
    }
   ],
   "source": [
    "v3 = np.array([1,2,3,4,5,3,4,2,3,4,5,6,6,7,8,2,3,1,2,3,4,5,6])\n",
    "\n",
    "x3 = np.unique(v3,return_index=True,return_counts=True)\n",
    "\n",
    "print(x3)\n",
    "\n"
   ]
  },
  {
   "cell_type": "code",
   "execution_count": 27,
   "id": "b18f60d8-b3d9-4f52-8036-58f0e85cee35",
   "metadata": {},
   "outputs": [
    {
     "name": "stdout",
     "output_type": "stream",
     "text": [
      "[[1 2 3 4 5 3]\n",
      " [4 2 3 4 5 6]\n",
      " [6 7 8 2 3 1]\n",
      " [2 3 4 5 6 5]]\n"
     ]
    }
   ],
   "source": [
    "v4 = np.array([1,2,3,4,5,3,4,2,3,4,5,6,6,7,8,2,3,1,2,3,4,5,6,5])\n",
    "\n",
    "x4 = np.resize(v4,(4,6))\n",
    "print(x4)"
   ]
  },
  {
   "cell_type": "code",
   "execution_count": 30,
   "id": "c6e55ef9-0946-4efa-87ef-7f4fb089c626",
   "metadata": {},
   "outputs": [
    {
     "name": "stdout",
     "output_type": "stream",
     "text": [
      "[[1 2]\n",
      " [3 4]\n",
      " [5 1]]\n",
      "\n",
      "Flatten:  [1 3 5 2 4 1]\n",
      "Ravel:  [1 3 5 2 4 1]\n"
     ]
    }
   ],
   "source": [
    "v5 = np.array([1,2,3,4,5])\n",
    "\n",
    "x5 = np.resize(v5,(3,2))\n",
    "print(x5)\n",
    "print()\n",
    "\n",
    "print(\"Flatten: \",x5.flatten(order=\"F\"))\n",
    "print(\"Ravel: \",np.ravel(x5,order=\"F\"))"
   ]
  },
  {
   "cell_type": "markdown",
   "id": "481b3d4c-131b-427e-ae42-0c728eaa4ae2",
   "metadata": {},
   "source": [
    "Insert And Delete In Array"
   ]
  },
  {
   "cell_type": "code",
   "execution_count": 34,
   "id": "9cdb70e6-2f44-4577-8ebe-419e38d723b8",
   "metadata": {},
   "outputs": [
    {
     "name": "stdout",
     "output_type": "stream",
     "text": [
      "[1 2 3 4 5]\n",
      "[ 1  2 34  3  4 34  5]\n"
     ]
    }
   ],
   "source": [
    "v6 = np.array([1,2,3,4,5])\n",
    "print(v6)\n",
    "# x6 = np.insert(v6, 4, 3400)\n",
    "x6 = np.insert(v6, (2,4), 34)\n",
    "\n",
    "\n",
    "print(x6)"
   ]
  },
  {
   "cell_type": "code",
   "execution_count": 35,
   "id": "996688c6-4f11-4aa6-9bc8-11e15c98da15",
   "metadata": {},
   "outputs": [
    {
     "name": "stdout",
     "output_type": "stream",
     "text": [
      "[1 2 3 4 5]\n",
      "[1 2 4 5]\n"
     ]
    }
   ],
   "source": [
    "v7 = np.array([1,2,3,4,5])\n",
    "print(v7)\n",
    "\n",
    "x7 = np.delete(v7, 2)\n",
    "print(x7)\n"
   ]
  },
  {
   "cell_type": "markdown",
   "id": "f25c435f-76f4-4fe9-b027-06148f593709",
   "metadata": {},
   "source": [
    "Matrix"
   ]
  },
  {
   "cell_type": "code",
   "execution_count": 40,
   "id": "e43a1032-2012-4406-836a-7ee6fa2aacc1",
   "metadata": {},
   "outputs": [
    {
     "name": "stdout",
     "output_type": "stream",
     "text": [
      "[[1 2 3]\n",
      " [4 5 6]]\n",
      "\n",
      "[[1 4]\n",
      " [2 5]\n",
      " [3 6]]\n",
      "\n",
      "[[1 4]\n",
      " [2 5]\n",
      " [3 6]]\n",
      "\n",
      "[[1 4]\n",
      " [2 5]\n",
      " [3 6]]\n"
     ]
    }
   ],
   "source": [
    "var = np.matrix([[1,2,3],[4,5,6]])\n",
    "print(var)\n",
    "print()\n",
    "\n",
    "print(np.transpose(var))\n",
    "print()\n",
    "\n",
    "print(var.T)\n",
    "print()\n",
    "\n",
    "print(np.swapaxes(var,0,1))\n"
   ]
  },
  {
   "cell_type": "code",
   "execution_count": 43,
   "id": "7f64a119-1b38-425e-a90e-b8314568653e",
   "metadata": {},
   "outputs": [
    {
     "name": "stdout",
     "output_type": "stream",
     "text": [
      "[[1 2]\n",
      " [3 4]]\n",
      "\n",
      "[[1 3]\n",
      " [2 4]]\n",
      "[[-2.   1. ]\n",
      " [ 1.5 -0.5]]\n"
     ]
    }
   ],
   "source": [
    "var2 = np.matrix([[1,2],[3,4]])\n",
    "print(var2)\n",
    "print()\n",
    "print(np.swapaxes(var2,0,1))\n",
    "print(np.linalg.inv(var2))"
   ]
  },
  {
   "cell_type": "code",
   "execution_count": 50,
   "id": "3a153c58-d50c-4f80-81e0-b619887abd5b",
   "metadata": {},
   "outputs": [
    {
     "name": "stdout",
     "output_type": "stream",
     "text": [
      "[[1 2]\n",
      " [3 4]]\n",
      "\n",
      "[[ 7 10]\n",
      " [15 22]]\n",
      "\n",
      "[[1 0]\n",
      " [0 1]]\n",
      "\n",
      "[[ 5.5  -2.5 ]\n",
      " [-3.75  1.75]]\n",
      "\n",
      "-2.0000000000000004\n"
     ]
    }
   ],
   "source": [
    "var3 = np.matrix([[1,2],[3,4]])\n",
    "print(var3)\n",
    "print()\n",
    "\n",
    "print(np.linalg.matrix_power(var3,2))\n",
    "print()\n",
    "\n",
    "print(np.linalg.matrix_power(var3,0))\n",
    "print()\n",
    "\n",
    "print(np.linalg.matrix_power(var3,-2))\n",
    "print()\n",
    "\n",
    "print(np.linalg.det(var3))\n"
   ]
  },
  {
   "cell_type": "code",
   "execution_count": null,
   "id": "9cd7601a-265d-4f5f-86d0-b0930cd7204c",
   "metadata": {},
   "outputs": [],
   "source": []
  }
 ],
 "metadata": {
  "kernelspec": {
   "display_name": "Python 3 (ipykernel)",
   "language": "python",
   "name": "python3"
  },
  "language_info": {
   "codemirror_mode": {
    "name": "ipython",
    "version": 3
   },
   "file_extension": ".py",
   "mimetype": "text/x-python",
   "name": "python",
   "nbconvert_exporter": "python",
   "pygments_lexer": "ipython3",
   "version": "3.12.4"
  }
 },
 "nbformat": 4,
 "nbformat_minor": 5
}
