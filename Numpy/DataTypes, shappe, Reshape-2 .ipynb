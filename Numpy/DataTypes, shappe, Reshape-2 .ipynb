{
 "cells": [
  {
   "cell_type": "code",
   "execution_count": 5,
   "id": "8109dc9e-9c01-4fed-920b-1dc8a5b001a8",
   "metadata": {},
   "outputs": [
    {
     "name": "stdout",
     "output_type": "stream",
     "text": [
      "Data Type:  int32\n",
      "[1 2 3 4]\n"
     ]
    }
   ],
   "source": [
    "import numpy as np\n",
    "x = np.array([1,2,3,4])\n",
    "print(\"Data Type: \", x.dtype)\n",
    "print(x)"
   ]
  },
  {
   "cell_type": "code",
   "execution_count": 20,
   "id": "6e51f9a0-2ef5-4673-b4f1-76496a38a657",
   "metadata": {},
   "outputs": [
    {
     "name": "stdout",
     "output_type": "stream",
     "text": [
      "Data Type:  float64\n",
      "[1.  2.  4.  4.7]\n"
     ]
    }
   ],
   "source": [
    "x1 = np.array([1.0,2.0,4.0,4.7])\n",
    "print(\"Data Type: \", x1.dtype)\n",
    "print(x1)"
   ]
  },
  {
   "cell_type": "code",
   "execution_count": 21,
   "id": "91ad7bb9-7364-43dd-b59c-d906dba57f0b",
   "metadata": {},
   "outputs": [
    {
     "name": "stdout",
     "output_type": "stream",
     "text": [
      "Data Type:  float32\n",
      "[1. 2. 3. 4.]\n"
     ]
    }
   ],
   "source": [
    "x2 = np.array([1,2,3,4], dtype= \"f\")\n",
    "print(\"Data Type: \", x2.dtype)\n",
    "print(x2)"
   ]
  },
  {
   "cell_type": "code",
   "execution_count": 25,
   "id": "d750ce2f-dff4-4319-813b-eb85b5947bc3",
   "metadata": {},
   "outputs": [
    {
     "name": "stdout",
     "output_type": "stream",
     "text": [
      "Data Type:  int32\n",
      "Data Type:  float32\n",
      "[1 2 3 4]\n",
      "[1. 2. 3. 4.]\n"
     ]
    }
   ],
   "source": [
    "x3 = np.array([1,2,3,4])\n",
    "new = np.float32(x2)\n",
    "print(\"Data Type: \", x3.dtype)\n",
    "print(\"Data Type: \", new.dtype)\n",
    "print(x3)\n",
    "print(new)\n"
   ]
  },
  {
   "cell_type": "code",
   "execution_count": 26,
   "id": "14abaf7c-1348-45c5-98e3-d92d8a4b46ed",
   "metadata": {},
   "outputs": [
    {
     "name": "stdout",
     "output_type": "stream",
     "text": [
      "[1 2 3 4]\n",
      "[1. 2. 3. 4.]\n"
     ]
    }
   ],
   "source": [
    "x4 = np.array([1,2,3,4])\n",
    "new_1 = x4.astype(float)\n",
    "print(x4)\n",
    "print(new_1)"
   ]
  },
  {
   "cell_type": "code",
   "execution_count": 29,
   "id": "9934a8ad-000c-45b8-8c77-a47b26f31bad",
   "metadata": {},
   "outputs": [
    {
     "name": "stdout",
     "output_type": "stream",
     "text": [
      "[[1 2 3 4]\n",
      " [2 3 4 5]]\n",
      "\n",
      "(2, 4)\n"
     ]
    }
   ],
   "source": [
    "x5 = np.array([[1,2,3,4], [2,3,4,5]])\n",
    "print(x5)\n",
    "print()\n",
    "print(x5.shape)"
   ]
  },
  {
   "cell_type": "code",
   "execution_count": 38,
   "id": "3888ac34-dad6-4cb0-a18e-cda6e6203219",
   "metadata": {},
   "outputs": [
    {
     "name": "stdout",
     "output_type": "stream",
     "text": [
      "[[[ 1  2  3  4]\n",
      "  [ 4  5  6  7]\n",
      "  [ 8  9 10 11]]]\n",
      "\n",
      "3\n",
      "[[[ 1  2]\n",
      "  [ 3  4]\n",
      "  [ 4  5]]\n",
      "\n",
      " [[ 6  7]\n",
      "  [ 8  9]\n",
      "  [10 11]]]\n",
      "3\n"
     ]
    }
   ],
   "source": [
    "var = np.array([[[1,2,3,4], [4,5,6,7],[8,9,10,11]]])\n",
    "print(var)\n",
    "print()\n",
    "print(var.ndim)\n",
    "y = var.reshape(2,3,2)\n",
    "print(y)\n",
    "print(var.ndim)\n"
   ]
  },
  {
   "cell_type": "code",
   "execution_count": 45,
   "id": "5b751aaa-19d9-4fcb-9f6e-bd73e4842732",
   "metadata": {},
   "outputs": [
    {
     "name": "stdout",
     "output_type": "stream",
     "text": [
      "[[[ 1  2  3  4]\n",
      "  [ 4  5  6  7]\n",
      "  [ 8  9 10 11]]]\n",
      "\n",
      "3\n",
      "[[[ 1  2]\n",
      "  [ 3  4]\n",
      "  [ 4  5]]\n",
      "\n",
      " [[ 6  7]\n",
      "  [ 8  9]\n",
      "  [10 11]]]\n",
      "3\n",
      "\n",
      "[ 1  2  3  4  4  5  6  7  8  9 10 11]\n",
      "1\n"
     ]
    }
   ],
   "source": [
    "var = np.array([[[1,2,3,4], [4,5,6,7],[8,9,10,11]]])\n",
    "print(var)\n",
    "print()\n",
    "print(var.ndim)\n",
    "y = var.reshape(2,3,2)\n",
    "print(y)\n",
    "print(var.ndim)\n",
    "\n",
    "print()\n",
    "one = y.reshape(-1)\n",
    "print(one)\n",
    "print(one.ndim)"
   ]
  },
  {
   "cell_type": "code",
   "execution_count": 49,
   "id": "1ff4359e-8014-4bfb-b31d-e2e386eaf4f6",
   "metadata": {},
   "outputs": [
    {
     "name": "stdout",
     "output_type": "stream",
     "text": [
      "[ 4  7  9 11]\n",
      "\n",
      "[2 3 3 3]\n",
      "\n",
      "[ 4  7  9 11]\n",
      "\n",
      "[ 3 10 18 28]\n",
      "\n",
      "[3.   2.5  2.   1.75]\n",
      "\n",
      "[0 1 0 3]\n",
      "\n",
      "[   3   25  216 2401]\n",
      "\n",
      "[0 0 0 0]\n"
     ]
    }
   ],
   "source": [
    "a = np.array([3,5,6,7])\n",
    "b = np.array([1,2,3,4])\n",
    "print(np.add(a,b))\n",
    "print()\n",
    "print(np.subtract(a,b))\n",
    "print()\n",
    "print(np.add(a,b))\n",
    "print()\n",
    "print(np.multiply(a,b))\n",
    "print()\n",
    "print(np.divide(a,b))\n",
    "print()\n",
    "print(np.mod(a,b))\n",
    "print()\n",
    "print(np.power(a,b))\n",
    "print()\n",
    "print(np.reciprocal(a,b))"
   ]
  },
  {
   "cell_type": "code",
   "execution_count": 50,
   "id": "57088a18-69a8-4ec8-8741-94359cfe11f0",
   "metadata": {},
   "outputs": [
    {
     "name": "stdout",
     "output_type": "stream",
     "text": [
      "3\n",
      "\n",
      "7\n",
      "\n",
      "0\n",
      "\n",
      "[1.73205081 2.23606798 2.44948974 2.64575131]\n",
      "\n",
      "[ 0.14112001 -0.95892427 -0.2794155   0.6569866 ]\n",
      "\n",
      "[-0.9899925   0.28366219  0.96017029  0.75390225]\n",
      "\n",
      "[ 3  8 14 21]\n",
      "\n"
     ]
    }
   ],
   "source": [
    "ar_fun = np.array([3,5,6,7])\n",
    "\n",
    "print(np.min(ar_fun))\n",
    "print()\n",
    "print(np.max(ar_fun))\n",
    "print()\n",
    "print(np.argmin(ar_fun))\n",
    "print()\n",
    "print(np.sqrt(ar_fun))\n",
    "print()\n",
    "print(np.sin(ar_fun))\n",
    "print()\n",
    "print(np.cos(ar_fun))\n",
    "print()\n",
    "print(np.cumsum(ar_fun))\n",
    "print()\n"
   ]
  },
  {
   "cell_type": "code",
   "execution_count": 5,
   "id": "9016ec2d-dfd5-42d0-909d-239401feaa0c",
   "metadata": {},
   "outputs": [
    {
     "name": "stdout",
     "output_type": "stream",
     "text": [
      "(2, 1)\n",
      "(2, 3)\n",
      "\n",
      "[[1]\n",
      " [2]]\n",
      "[[1 2 3]\n",
      " [1 2 3]]\n",
      "\n",
      "[[2 3 4]\n",
      " [3 4 5]]\n"
     ]
    }
   ],
   "source": [
    "import numpy as np\n",
    "x = np.array([[1],[2]])\n",
    "print(x.shape)\n",
    "\n",
    "y = np.array([[1,2,3], [1,2,3]])\n",
    "print(y.shape)\n",
    "\n",
    "print()\n",
    "print(x)\n",
    "print(y)\n",
    "print()\n",
    "print(x+y)"
   ]
  },
  {
   "cell_type": "markdown",
   "id": "0df43e87-1276-4c7f-af27-9dcd0a7bec17",
   "metadata": {},
   "source": [
    "Indexing Numpy Arrays\n"
   ]
  },
  {
   "cell_type": "code",
   "execution_count": 8,
   "id": "1afc42df-64e3-4851-99e9-8edd40cb6a7a",
   "metadata": {},
   "outputs": [
    {
     "name": "stdout",
     "output_type": "stream",
     "text": [
      "3\n",
      "3\n"
     ]
    }
   ],
   "source": [
    "x = np.array([1,2,3,4,5,6,7,8,90])\n",
    "print(x[2])\n",
    "print(x[-7])"
   ]
  },
  {
   "cell_type": "code",
   "execution_count": 15,
   "id": "6098c4c8-8262-4424-8d03-32ef709058b8",
   "metadata": {
    "scrolled": true
   },
   "outputs": [
    {
     "name": "stdout",
     "output_type": "stream",
     "text": [
      "[[9 8 7]\n",
      " [4 5 6]]\n",
      "2\n",
      "\n",
      "7\n"
     ]
    }
   ],
   "source": [
    "y = np.array([[9,8,7],[4,5,6]])\n",
    "print(y)\n",
    "print(y.ndim)\n",
    "print()\n",
    "\n",
    "print(y[0,2])"
   ]
  },
  {
   "cell_type": "code",
   "execution_count": 18,
   "id": "0877d56a-18ba-42c5-bce2-c38a27cb890c",
   "metadata": {},
   "outputs": [
    {
     "name": "stdout",
     "output_type": "stream",
     "text": [
      "10\n"
     ]
    }
   ],
   "source": [
    " z = np.array([[[1,2,3,4],[3,4,5,6],[7,8,9,10]]])\n",
    "print(z[0, 2,3])"
   ]
  },
  {
   "cell_type": "markdown",
   "id": "e999fcb1-569c-4de9-8ab3-79ce356b776e",
   "metadata": {},
   "source": [
    "Slicing"
   ]
  },
  {
   "cell_type": "code",
   "execution_count": 22,
   "id": "38c282af-e49e-413d-a9c3-389d665e8142",
   "metadata": {},
   "outputs": [
    {
     "name": "stdout",
     "output_type": "stream",
     "text": [
      "[1 2 3 4 5 6 7 8 9]\n",
      "\n",
      "[3 4 5 6 7]\n",
      "[3 4 5 6 7 8 9]\n",
      "[1 2 3 4 5 6 7]\n"
     ]
    }
   ],
   "source": [
    " s = np.array([1,2,3,4,5,6,7,8,9])\n",
    "\n",
    "print(s)\n",
    "print()\n",
    "\n",
    "print(s[2:7])\n",
    "print(s[2:])\n",
    "print(s[:7])"
   ]
  },
  {
   "cell_type": "code",
   "execution_count": null,
   "id": "4f52c4d1-b34c-4328-8cdf-664e5600c8d9",
   "metadata": {},
   "outputs": [],
   "source": []
  }
 ],
 "metadata": {
  "kernelspec": {
   "display_name": "Python 3 (ipykernel)",
   "language": "python",
   "name": "python3"
  },
  "language_info": {
   "codemirror_mode": {
    "name": "ipython",
    "version": 3
   },
   "file_extension": ".py",
   "mimetype": "text/x-python",
   "name": "python",
   "nbconvert_exporter": "python",
   "pygments_lexer": "ipython3",
   "version": "3.12.4"
  }
 },
 "nbformat": 4,
 "nbformat_minor": 5
}
