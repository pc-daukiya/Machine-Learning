{
 "cells": [
  {
   "cell_type": "code",
   "execution_count": 6,
   "id": "d9cfe008-e379-492a-ad56-c304a5c5ad25",
   "metadata": {},
   "outputs": [
    {
     "name": "stdout",
     "output_type": "stream",
     "text": [
      "[1 2 3 4 5]\n",
      "<class 'numpy.ndarray'>\n"
     ]
    }
   ],
   "source": [
    "import numpy as np\n",
    "x = np.array([1, 2, 3, 4, 5])\n",
    "print(x)\n",
    "print(type(x))"
   ]
  },
  {
   "cell_type": "code",
   "execution_count": 7,
   "id": "5198b52c-11ad-4b21-b923-48a37acc636b",
   "metadata": {},
   "outputs": [
    {
     "name": "stdout",
     "output_type": "stream",
     "text": [
      "[1, 2, 3, 4, 5]\n",
      "<class 'list'>\n"
     ]
    }
   ],
   "source": [
    "y = [1, 2, 3, 4, 5]\n",
    "print(y)\n",
    "print(type(y))"
   ]
  },
  {
   "cell_type": "code",
   "execution_count": 8,
   "id": "c6e21164-0720-4cc4-b369-69a3ef935b9e",
   "metadata": {},
   "outputs": [
    {
     "name": "stdout",
     "output_type": "stream",
     "text": [
      "[1 2 3 4 5]\n",
      "<class 'numpy.ndarray'>\n"
     ]
    },
    {
     "data": {
      "text/plain": [
       "numpy.ndarray"
      ]
     },
     "execution_count": 8,
     "metadata": {},
     "output_type": "execute_result"
    }
   ],
   "source": [
    "y = np.array([1, 2, 3, 4, 5])\n",
    "print(y)\n",
    "print(type(y))\n",
    "type(y)"
   ]
  },
  {
   "cell_type": "code",
   "execution_count": 11,
   "id": "6ca2144b-cc22-400a-b5b7-df4a54619db4",
   "metadata": {},
   "outputs": [
    {
     "name": "stdin",
     "output_type": "stream",
     "text": [
      "enter: 1\n",
      "enter: 2\n",
      "enter: 4\n",
      "enter: 6\n"
     ]
    },
    {
     "name": "stdout",
     "output_type": "stream",
     "text": [
      "[1 2 4 6]\n",
      "1\n"
     ]
    }
   ],
   "source": [
    "l = []\n",
    "for i in range(1, 5):\n",
    "    int_1 = int(input(\"enter:\"))\n",
    "    l.append(int_1)\n",
    "print(np.array(l))\n",
    "print(y.ndim)"
   ]
  },
  {
   "cell_type": "code",
   "execution_count": 12,
   "id": "4c1b50c2-bddf-429c-b6a7-30145ea665e9",
   "metadata": {},
   "outputs": [
    {
     "name": "stdout",
     "output_type": "stream",
     "text": [
      "[[  1   2   3   4]\n",
      " [  6   7   8   9]\n",
      " [ 12 123 456  67]]\n",
      "2\n"
     ]
    }
   ],
   "source": [
    "ar2 = np.array([[1,2,3,4],[6,7,8,9],[12,123,456,67]])\n",
    "print(ar2)\n",
    "print(ar2.ndim)"
   ]
  },
  {
   "cell_type": "code",
   "execution_count": 13,
   "id": "5cdedf23-c268-4197-b0ab-86c43f70388d",
   "metadata": {},
   "outputs": [
    {
     "name": "stdout",
     "output_type": "stream",
     "text": [
      "[[[  1   2   3   4]\n",
      "  [ 23  65  34  56]\n",
      "  [ 12  45  76 453]]]\n",
      "3\n"
     ]
    }
   ],
   "source": [
    "ar3 = np.array([[[1,2,3,4],[23,65,34,56],[12,45,76,453]]])\n",
    "print(ar3)\n",
    "print(ar3.ndim)"
   ]
  },
  {
   "cell_type": "code",
   "execution_count": 14,
   "id": "88a928bc-a632-4908-8678-ba46fde9dd23",
   "metadata": {},
   "outputs": [
    {
     "name": "stdout",
     "output_type": "stream",
     "text": [
      "[[[[[[[[[[1 2 3 4]]]]]]]]]]\n",
      "10\n"
     ]
    }
   ],
   "source": [
    "arn = np.array([1,2,3,4], ndmin = 10)\n",
    "print(arn)\n",
    "print(arn.ndim)"
   ]
  },
  {
   "cell_type": "code",
   "execution_count": 21,
   "id": "b08ca4d5-71cb-412e-942a-ce4347d17cc9",
   "metadata": {},
   "outputs": [
    {
     "name": "stdout",
     "output_type": "stream",
     "text": [
      "[0. 0. 0. 0.]\n",
      "1\n",
      "\n",
      "[[0. 0. 0. 0.]\n",
      " [0. 0. 0. 0.]\n",
      " [0. 0. 0. 0.]]\n",
      "2\n"
     ]
    }
   ],
   "source": [
    "ar_zero = np.zeros(4)\n",
    "ar_zero1 = np.zeros((3,4))\n",
    "print(ar_zero)\n",
    "print(ar_zero.ndim)\n",
    "print()\n",
    "print(ar_zero1)\n",
    "print(ar_zero1.ndim)\n"
   ]
  },
  {
   "cell_type": "code",
   "execution_count": 22,
   "id": "5741ba21-bb4f-4ffc-842d-312bf54f742b",
   "metadata": {},
   "outputs": [
    {
     "name": "stdout",
     "output_type": "stream",
     "text": [
      "[1. 1. 1. 1.]\n"
     ]
    }
   ],
   "source": [
    "ar_one = np.ones(4)\n",
    "print(ar_one)"
   ]
  },
  {
   "cell_type": "markdown",
   "id": "2f0b1466-159b-485e-8938-af85c0e90d4b",
   "metadata": {},
   "source": [
    "Previous Memory ke hisab se empty array print hota hai"
   ]
  },
  {
   "cell_type": "code",
   "execution_count": 24,
   "id": "1df47035-4f1f-4337-b6e1-89b9e41c4cb9",
   "metadata": {},
   "outputs": [
    {
     "name": "stdout",
     "output_type": "stream",
     "text": [
      "[1. 1. 1. 1.]\n"
     ]
    }
   ],
   "source": [
    "ar_empty = np.empty(4)\n",
    "print(ar_empty)"
   ]
  },
  {
   "cell_type": "markdown",
   "id": "734af7bc-bf76-4022-88ca-1c428ba03070",
   "metadata": {},
   "source": [
    "dghg\n"
   ]
  },
  {
   "cell_type": "code",
   "execution_count": 25,
   "id": "c3a03371-87d5-4dec-a8db-0f78fbfc1ba5",
   "metadata": {},
   "outputs": [
    {
     "name": "stdout",
     "output_type": "stream",
     "text": [
      "[0 1 2 3]\n"
     ]
    }
   ],
   "source": [
    "ar_rn = np.arange(4)\n",
    "print(ar_rn)"
   ]
  },
  {
   "cell_type": "code",
   "execution_count": 27,
   "id": "c699569c-f0a0-4c9c-b037-b2304b10a726",
   "metadata": {},
   "outputs": [
    {
     "name": "stdout",
     "output_type": "stream",
     "text": [
      "[[1. 0. 0.]\n",
      " [0. 1. 0.]\n",
      " [0. 0. 1.]]\n"
     ]
    }
   ],
   "source": [
    "ar_dia = np.eye(3)\n",
    "print(ar_dia)"
   ]
  },
  {
   "cell_type": "code",
   "execution_count": 28,
   "id": "b7b19e3d-51a2-4121-9ae4-a40dd99deb00",
   "metadata": {},
   "outputs": [
    {
     "name": "stdout",
     "output_type": "stream",
     "text": [
      "[[1. 0. 0. 0. 0.]\n",
      " [0. 1. 0. 0. 0.]\n",
      " [0. 0. 1. 0. 0.]]\n"
     ]
    }
   ],
   "source": [
    "ar_dia = np.eye(3, 5)\n",
    "print(ar_dia)"
   ]
  },
  {
   "cell_type": "code",
   "execution_count": 30,
   "id": "589a4693-7d85-4633-a623-757eb0549823",
   "metadata": {},
   "outputs": [
    {
     "name": "stdout",
     "output_type": "stream",
     "text": [
      "[ 0.  4.  8. 12. 16. 20.]\n"
     ]
    }
   ],
   "source": [
    "ar_lin = np.linspace(0, 20, num=6)\n",
    "print(ar_lin)"
   ]
  },
  {
   "cell_type": "code",
   "execution_count": 34,
   "id": "5cda033b-7117-43d1-b1be-1e91899890c3",
   "metadata": {},
   "outputs": [
    {
     "name": "stdout",
     "output_type": "stream",
     "text": [
      "[[0.64663215 0.58977655 0.07566687 0.71836794 0.38814986 0.17668731]\n",
      " [0.31429995 0.00189474 0.03207072 0.39085805 0.41191608 0.3371985 ]\n",
      " [0.13243139 0.37922694 0.62541402 0.19729935 0.12581149 0.77882523]]\n"
     ]
    }
   ],
   "source": [
    "arr_random = np.random.rand(3,6)\n",
    "print(arr_random)"
   ]
  },
  {
   "cell_type": "code",
   "execution_count": 35,
   "id": "6c59eaf5-0b8c-4cf8-861f-4d71466544e9",
   "metadata": {},
   "outputs": [
    {
     "name": "stdout",
     "output_type": "stream",
     "text": [
      "[[-4.62518842e-01  2.00810465e-01  5.64292535e-02  3.82401407e-01\n",
      "   2.46866079e-01  1.19526690e+00]\n",
      " [ 6.07865311e-02  1.46668437e-01 -9.29508444e-01 -7.04193325e-01\n",
      "  -4.74728997e-01  1.02317514e+00]\n",
      " [ 7.97267631e-02 -1.44634668e+00 -8.04103292e-01  1.16166368e-03\n",
      "  -1.41224841e+00 -6.09890791e-01]]\n"
     ]
    }
   ],
   "source": [
    "arr_random = np.random.randn(3,6)\n",
    "print(arr_random)"
   ]
  },
  {
   "cell_type": "code",
   "execution_count": 37,
   "id": "188e4df1-9e2c-4dab-9ee2-89dc9d0a981e",
   "metadata": {},
   "outputs": [
    {
     "name": "stdout",
     "output_type": "stream",
     "text": [
      "[0.30787063 0.06600593 0.55430306 0.58278061 0.22265096 0.72971789]\n"
     ]
    }
   ],
   "source": [
    "arr_random = np.random.ranf(6)\n",
    "print(arr_random)"
   ]
  },
  {
   "cell_type": "code",
   "execution_count": 39,
   "id": "df32d785-1532-4a23-a612-70219c02e480",
   "metadata": {},
   "outputs": [
    {
     "name": "stdout",
     "output_type": "stream",
     "text": [
      "[ 5  5 16  8 10 12  3 14  7  8]\n"
     ]
    }
   ],
   "source": [
    "arr_random = np.random.randint(3,20,10)\n",
    "print(arr_random)"
   ]
  },
  {
   "cell_type": "code",
   "execution_count": null,
   "id": "8ab5bf18-470e-4281-9145-1c05dd99e059",
   "metadata": {},
   "outputs": [],
   "source": []
  }
 ],
 "metadata": {
  "kernelspec": {
   "display_name": "Python 3 (ipykernel)",
   "language": "python",
   "name": "python3"
  },
  "language_info": {
   "codemirror_mode": {
    "name": "ipython",
    "version": 3
   },
   "file_extension": ".py",
   "mimetype": "text/x-python",
   "name": "python",
   "nbconvert_exporter": "python",
   "pygments_lexer": "ipython3",
   "version": "3.12.4"
  }
 },
 "nbformat": 4,
 "nbformat_minor": 5
}
