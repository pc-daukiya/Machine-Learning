{
 "cells": [
  {
   "cell_type": "markdown",
   "id": "8f61ecf3-847c-48e3-8731-054f50cf0d61",
   "metadata": {},
   "source": [
    "Split Array"
   ]
  },
  {
   "cell_type": "code",
   "execution_count": 2,
   "id": "f0a3666a-6dd6-418b-8bda-4cad81cdd9c6",
   "metadata": {},
   "outputs": [],
   "source": [
    "import numpy as np"
   ]
  },
  {
   "cell_type": "code",
   "execution_count": 3,
   "id": "f96597f9-f400-43ce-a5c5-cc0d6f13b0d8",
   "metadata": {},
   "outputs": [
    {
     "name": "stdout",
     "output_type": "stream",
     "text": [
      "[1 2 3 4 5 6 7 8]\n",
      "\n",
      "[array([1, 2, 3]), array([4, 5, 6]), array([7, 8])]\n"
     ]
    }
   ],
   "source": [
    "var = np.array([1,2,3,4,5,6,7,8])\n",
    "\n",
    "print(var)\n",
    "\n",
    "ar = np.array_split(var,3)\n",
    "\n",
    "print()\n",
    "print(ar)"
   ]
  },
  {
   "cell_type": "code",
   "execution_count": 16,
   "id": "5150868f-1288-49d8-af69-91d7327cf68d",
   "metadata": {},
   "outputs": [
    {
     "name": "stdout",
     "output_type": "stream",
     "text": [
      "[[ 1  2  3  4  5 34]\n",
      " [12 45 56 65  6  7]\n",
      " [ 1  2  3  4  5  6]]\n",
      "[array([[ 1,  2,  3,  4,  5, 34]]), array([[12, 45, 56, 65,  6,  7]]), array([[1, 2, 3, 4, 5, 6]])]\n",
      "<class 'list'>\n",
      "\n",
      "[array([[ 1,  2],\n",
      "       [12, 45],\n",
      "       [ 1,  2]]), array([[ 3,  4],\n",
      "       [56, 65],\n",
      "       [ 3,  4]]), array([[ 5, 34],\n",
      "       [ 6,  7],\n",
      "       [ 5,  6]])]\n",
      "<class 'list'>\n"
     ]
    }
   ],
   "source": [
    "var1 = np.array([[1,2,3,4,5,34],[12,45,56,65,6,7],[1,2,3,4,5,6]])\n",
    "\n",
    "print(var1)\n",
    "\n",
    "ar1 = np.array_split(var1,3)\n",
    "ar2 = np.array_split(var1,3,axis=1)\n",
    "\n",
    "print(ar1)\n",
    "print(type(ar1))\n",
    "print()\n",
    "print(ar2)\n",
    "print(type(ar2))"
   ]
  },
  {
   "cell_type": "markdown",
   "id": "806e0846-2447-44b6-8fb5-ca9bf6c787d5",
   "metadata": {},
   "source": [
    "Search in Array"
   ]
  },
  {
   "cell_type": "code",
   "execution_count": 19,
   "id": "77528ad9-71d1-49fc-abec-223c874e8443",
   "metadata": {},
   "outputs": [
    {
     "name": "stdout",
     "output_type": "stream",
     "text": [
      "(array([ 1,  5, 11, 18], dtype=int64),)\n"
     ]
    }
   ],
   "source": [
    "v1 = np.array([1,2,3,4,5,2,4,5,6,7,8,2,3,4,1,5,6,7,2,3,8,9])\n",
    "\n",
    "x = np.where( v1 == 2)\n",
    "print(x)"
   ]
  },
  {
   "cell_type": "code",
   "execution_count": 24,
   "id": "280d69c9-875a-4a44-828c-66fa14bc719e",
   "metadata": {},
   "outputs": [
    {
     "name": "stdout",
     "output_type": "stream",
     "text": [
      "4\n"
     ]
    }
   ],
   "source": [
    "v2 = np.array([1,2,3,4,6,7])\n",
    "\n",
    "x1 = np.searchsorted( v2, 5)\n",
    "print(x1)"
   ]
  },
  {
   "cell_type": "code",
   "execution_count": 25,
   "id": "c7c190a7-9a73-4f28-8782-2107e6b75f42",
   "metadata": {},
   "outputs": [
    {
     "name": "stdout",
     "output_type": "stream",
     "text": [
      "[1 1 2 2 2 2 3 3 3 4 4 4 5 5 5 6 6 7 7 8 8 9]\n"
     ]
    }
   ],
   "source": [
    "v2 = np.array([1,2,3,4,5,2,4,5,6,7,8,2,3,4,1,5,6,7,2,3,8,9])\n",
    "\n",
    "x2 = np.sort(v2)\n",
    "print(x2)"
   ]
  },
  {
   "cell_type": "markdown",
   "id": "f5a1f8fa-c232-4a46-baa7-802a04577ffc",
   "metadata": {},
   "source": [
    "Filter Array"
   ]
  },
  {
   "cell_type": "code",
   "execution_count": 30,
   "id": "8b19577f-7a86-42e2-9887-8bec1287dc92",
   "metadata": {},
   "outputs": [
    {
     "name": "stdout",
     "output_type": "stream",
     "text": [
      "['a' 'c']\n",
      "<class 'numpy.ndarray'>\n"
     ]
    }
   ],
   "source": [
    "v3 = np.array([\"a\", \"b\",\"c\",\"d\"])\n",
    "f = [True,False,True,False]\n",
    "x3 = v3[f]\n",
    "print(x3)\n",
    "print(type(x3))\n"
   ]
  },
  {
   "cell_type": "code",
   "execution_count": null,
   "id": "60ee7a48-47ed-4238-923b-853584b3b5b9",
   "metadata": {},
   "outputs": [],
   "source": []
  }
 ],
 "metadata": {
  "kernelspec": {
   "display_name": "Python 3 (ipykernel)",
   "language": "python",
   "name": "python3"
  },
  "language_info": {
   "codemirror_mode": {
    "name": "ipython",
    "version": 3
   },
   "file_extension": ".py",
   "mimetype": "text/x-python",
   "name": "python",
   "nbconvert_exporter": "python",
   "pygments_lexer": "ipython3",
   "version": "3.12.4"
  }
 },
 "nbformat": 4,
 "nbformat_minor": 5
}
