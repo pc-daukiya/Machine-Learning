{
 "cells": [
  {
   "cell_type": "code",
   "execution_count": 1,
   "id": "b90828f0-5146-4412-b6de-3b28838dd8e2",
   "metadata": {},
   "outputs": [],
   "source": [
    "import numpy as np"
   ]
  },
  {
   "cell_type": "code",
   "execution_count": 3,
   "id": "9ba578a0-f6ab-4e22-b774-79cac9c0bf90",
   "metadata": {},
   "outputs": [
    {
     "name": "stdout",
     "output_type": "stream",
     "text": [
      "[[1 2 3 4]\n",
      " [2 3 5 6]]\n",
      "\n",
      "[2 3]\n",
      "[3 5 6]\n"
     ]
    }
   ],
   "source": [
    "x = np.array([[1,2,3,4],[2,3,5,6]])\n",
    "\n",
    "print(x)\n",
    "print()\n",
    "print(x[0,1:3])\n",
    "print(x[1,1:])"
   ]
  },
  {
   "cell_type": "code",
   "execution_count": 9,
   "id": "1d60aa03-accb-49bb-ba9b-138ab778d534",
   "metadata": {},
   "outputs": [
    {
     "name": "stdout",
     "output_type": "stream",
     "text": [
      "[[[1 2 3]\n",
      "  [1 2 5]]\n",
      "\n",
      " [[2 3 4]\n",
      "  [6 7 9]]]\n",
      "\n",
      "3\n",
      "[7 9]\n"
     ]
    }
   ],
   "source": [
    "\n",
    "x1 = np.array([[[1,2,3],[1,2,5]],[[2,3,4],[6,7,9]]])\n",
    "\n",
    "print(x1)\n",
    "print()\n",
    "print(x1.ndim)\n",
    "print(x1[1,1,1:])"
   ]
  },
  {
   "cell_type": "markdown",
   "id": "b1279ec5-4562-4fe3-86ed-e447d7726b5a",
   "metadata": {},
   "source": [
    "Iteration"
   ]
  },
  {
   "cell_type": "code",
   "execution_count": 10,
   "id": "fd36fc8e-5e80-4296-a9fa-eb1a876d3a5a",
   "metadata": {},
   "outputs": [
    {
     "name": "stdout",
     "output_type": "stream",
     "text": [
      "[9 8 7 6 5 4 3 2 1]\n",
      "\n",
      "9\n",
      "8\n",
      "7\n",
      "6\n",
      "5\n",
      "4\n",
      "3\n",
      "2\n",
      "1\n"
     ]
    }
   ],
   "source": [
    "var = np.array([9,8,7,6,5,4,3,2,1])\n",
    "print(var)\n",
    "print()\n",
    "for i in var:\n",
    "    print(i)"
   ]
  },
  {
   "cell_type": "code",
   "execution_count": 15,
   "id": "e93d6a2f-22f3-45fa-a069-707fba1df360",
   "metadata": {},
   "outputs": [
    {
     "name": "stdout",
     "output_type": "stream",
     "text": [
      "[[1 2 3 4 5]\n",
      " [6 7 8 9 2]]\n",
      "\n",
      "[1 2 3 4 5]\n",
      "[6 7 8 9 2]\n",
      "\n",
      "1\n",
      "2\n",
      "3\n",
      "4\n",
      "5\n",
      "6\n",
      "7\n",
      "8\n",
      "9\n",
      "2\n"
     ]
    }
   ],
   "source": [
    "var1 = np.array([[1,2,3,4,5],[6,7,8,9,2]])\n",
    "print(var1)\n",
    "print()\n",
    "for i in var1:\n",
    "    print(i)\n",
    "print()\n",
    "for j in var1:\n",
    "    for k in j:\n",
    "        print(k) # Iterated Data"
   ]
  },
  {
   "cell_type": "code",
   "execution_count": 20,
   "id": "7b625040-72f9-4cd1-9f91-0fbd3f5d8483",
   "metadata": {},
   "outputs": [
    {
     "name": "stdout",
     "output_type": "stream",
     "text": [
      "[[[1 2 3]\n",
      "  [1 2 5]]\n",
      "\n",
      " [[2 3 4]\n",
      "  [6 7 9]]]\n",
      "\n",
      "1\n",
      "2\n",
      "3\n",
      "1\n",
      "2\n",
      "5\n",
      "2\n",
      "3\n",
      "4\n",
      "6\n",
      "7\n",
      "9\n"
     ]
    }
   ],
   "source": [
    "var2 = np.array([[[1,2,3],[1,2,5]],[[2,3,4],[6,7,9]]])\n",
    "\n",
    "print(var2)\n",
    "print()\n",
    "for i in var2:\n",
    "    for j in i:\n",
    "        for k in j:\n",
    "            print(k) #Iterated data "
   ]
  },
  {
   "cell_type": "code",
   "execution_count": 22,
   "id": "7cc79421-92d7-44f5-a537-e4ede6fd43ad",
   "metadata": {},
   "outputs": [
    {
     "name": "stdout",
     "output_type": "stream",
     "text": [
      "[[[1 2 3]\n",
      "  [1 2 5]]\n",
      "\n",
      " [[2 3 4]\n",
      "  [6 7 9]]]\n",
      "\n",
      "1\n",
      "2\n",
      "3\n",
      "1\n",
      "2\n",
      "5\n",
      "2\n",
      "3\n",
      "4\n",
      "6\n",
      "7\n",
      "9\n"
     ]
    }
   ],
   "source": [
    "var3 = np.array([[[1,2,3],[1,2,5]],[[2,3,4],[6,7,9]]])\n",
    "print(var3)\n",
    "print()\n",
    "\n",
    "for i in np.nditer(var3):\n",
    "    print(i)\n",
    "    "
   ]
  },
  {
   "cell_type": "code",
   "execution_count": 24,
   "id": "d0edac8d-a763-4688-988c-f2883407f172",
   "metadata": {},
   "outputs": [
    {
     "name": "stdout",
     "output_type": "stream",
     "text": [
      "[[[1 2 3]\n",
      "  [1 2 5]]\n",
      "\n",
      " [[2 3 4]\n",
      "  [6 7 9]]]\n",
      "\n",
      "b'1'\n",
      "b'2'\n",
      "b'3'\n",
      "b'1'\n",
      "b'2'\n",
      "b'5'\n",
      "b'2'\n",
      "b'3'\n",
      "b'4'\n",
      "b'6'\n",
      "b'7'\n",
      "b'9'\n"
     ]
    }
   ],
   "source": [
    "var4 = np.array([[[1,2,3],[1,2,5]],[[2,3,4],[6,7,9]]])\n",
    "print(var4)\n",
    "print()\n",
    "\n",
    "for i in np.nditer(var4, flags=['buffered'],op_dtypes=[\"S\"]): # Data Buffered, Data stored in buffered \n",
    "    print(i)\n",
    "    "
   ]
  },
  {
   "cell_type": "code",
   "execution_count": 25,
   "id": "6eb4ad66-4c1b-4fe6-8499-687469824a1a",
   "metadata": {},
   "outputs": [
    {
     "name": "stdout",
     "output_type": "stream",
     "text": [
      "[[[1 2 3]\n",
      "  [1 2 5]]\n",
      "\n",
      " [[2 3 4]\n",
      "  [6 7 9]]]\n",
      "\n",
      "((0, 0, 0), 1)\n",
      "((0, 0, 1), 2)\n",
      "((0, 0, 2), 3)\n",
      "((0, 1, 0), 1)\n",
      "((0, 1, 1), 2)\n",
      "((0, 1, 2), 5)\n",
      "((1, 0, 0), 2)\n",
      "((1, 0, 1), 3)\n",
      "((1, 0, 2), 4)\n",
      "((1, 1, 0), 6)\n",
      "((1, 1, 1), 7)\n",
      "((1, 1, 2), 9)\n"
     ]
    }
   ],
   "source": [
    "var5 = np.array([[[1,2,3],[1,2,5]],[[2,3,4],[6,7,9]]])\n",
    "print(var5)\n",
    "print()\n",
    "\n",
    "for i in np.ndenumerate(var5):\n",
    "    print(i)\n",
    "    "
   ]
  },
  {
   "cell_type": "code",
   "execution_count": 30,
   "id": "d69f4946-f4e8-43f7-8cfe-24d42fc7927c",
   "metadata": {},
   "outputs": [
    {
     "name": "stdout",
     "output_type": "stream",
     "text": [
      "[[1 2 3 4]\n",
      " [5 6 7 8]]\n",
      "(0, 0) 1\n",
      "(0, 1) 2\n",
      "(0, 2) 3\n",
      "(0, 3) 4\n",
      "(1, 0) 5\n",
      "(1, 1) 6\n",
      "(1, 2) 7\n",
      "(1, 3) 8\n"
     ]
    }
   ],
   "source": [
    "var6 = np.array([[1,2,3,4],[5,6,7,8]])\n",
    "print(var6)\n",
    "for i,d in np.ndenumerate(var6):\n",
    "    print(i,d)"
   ]
  },
  {
   "cell_type": "code",
   "execution_count": null,
   "id": "263bf142-7c4e-4f61-a40f-40688bc18543",
   "metadata": {},
   "outputs": [],
   "source": []
  }
 ],
 "metadata": {
  "kernelspec": {
   "display_name": "Python 3 (ipykernel)",
   "language": "python",
   "name": "python3"
  },
  "language_info": {
   "codemirror_mode": {
    "name": "ipython",
    "version": 3
   },
   "file_extension": ".py",
   "mimetype": "text/x-python",
   "name": "python",
   "nbconvert_exporter": "python",
   "pygments_lexer": "ipython3",
   "version": "3.12.4"
  }
 },
 "nbformat": 4,
 "nbformat_minor": 5
}
