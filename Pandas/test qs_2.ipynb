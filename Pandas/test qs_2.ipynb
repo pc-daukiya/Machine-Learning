{
 "cells": [
  {
   "cell_type": "code",
   "execution_count": 1,
   "id": "c5c78f4f-a1a9-489e-89f1-7964b0908882",
   "metadata": {},
   "outputs": [
    {
     "name": "stdout",
     "output_type": "stream",
     "text": [
      "B    358\n",
      "C    349\n",
      "D    716\n",
      "E    223\n",
      "Name: 0, dtype: int64\n"
     ]
    }
   ],
   "source": [
    "import numpy as np\n",
    "import pandas as pd\n",
    "\n",
    "# Generate random data and create a DataFrame\n",
    "newdf = pd.DataFrame(np.random.randint(1, 1000, (1000, 5)), columns=['A', 'B', 'C', 'D', 'E'])\n",
    "\n",
    "# Save the DataFrame to a CSV file\n",
    "newdf.to_csv('random.csv', index=False)\n",
    "\n",
    "# Read the CSV file into a DataFrame\n",
    "newdf2 = pd.read_csv('random.csv')\n",
    "\n",
    "# Access a specific row and slice columns using .loc\n",
    "row_data = newdf2.loc[0, 'B':'E']  # Slicing from column B to column E for the first row\n",
    "print(row_data)\n",
    "\n",
    "# Optionally, you can access other rows or manipulate the DataFrame further\n"
   ]
  },
  {
   "cell_type": "code",
   "execution_count": null,
   "id": "29bcf54d-1797-49d6-9b79-ebaa46a9ab5e",
   "metadata": {},
   "outputs": [],
   "source": []
  }
 ],
 "metadata": {
  "kernelspec": {
   "display_name": "Python 3 (ipykernel)",
   "language": "python",
   "name": "python3"
  },
  "language_info": {
   "codemirror_mode": {
    "name": "ipython",
    "version": 3
   },
   "file_extension": ".py",
   "mimetype": "text/x-python",
   "name": "python",
   "nbconvert_exporter": "python",
   "pygments_lexer": "ipython3",
   "version": "3.12.4"
  }
 },
 "nbformat": 4,
 "nbformat_minor": 5
}
