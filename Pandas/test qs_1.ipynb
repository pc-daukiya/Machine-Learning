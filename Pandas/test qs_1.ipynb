{
 "cells": [
  {
   "cell_type": "code",
   "execution_count": 3,
   "id": "c3774d1f-5923-4352-a246-db9dfac0fb9a",
   "metadata": {},
   "outputs": [
    {
     "name": "stdout",
     "output_type": "stream",
     "text": [
      "[ 1  2  3  4  5  6  7 78  8  9 10 12]\n",
      "<class 'numpy.ndarray'>\n",
      "0.8414709848078965\n",
      "0.9092974268256817\n",
      "0.1411200080598672\n",
      "-0.7568024953079282\n",
      "-0.9589242746631385\n",
      "-0.27941549819892586\n",
      "0.6569865987187891\n",
      "0.5139784559875352\n",
      "0.9893582466233818\n",
      "0.4121184852417566\n",
      "-0.5440211108893698\n",
      "-0.5365729180004349\n"
     ]
    }
   ],
   "source": [
    "import numpy as np\n",
    "import pandas as pd\n",
    "arr = np.array([1,2,3,4,5,6,7,78,8,9,10,12])\n",
    "print(arr)\n",
    "print(type(arr))\n",
    "\n",
    "for i in arr:\n",
    "    x = np.sin(i)\n",
    "    print(x)\n"
   ]
  },
  {
   "cell_type": "code",
   "execution_count": null,
   "id": "24042e35-6d3f-4360-ad61-25671534dc5a",
   "metadata": {},
   "outputs": [],
   "source": []
  }
 ],
 "metadata": {
  "kernelspec": {
   "display_name": "Python 3 (ipykernel)",
   "language": "python",
   "name": "python3"
  },
  "language_info": {
   "codemirror_mode": {
    "name": "ipython",
    "version": 3
   },
   "file_extension": ".py",
   "mimetype": "text/x-python",
   "name": "python",
   "nbconvert_exporter": "python",
   "pygments_lexer": "ipython3",
   "version": "3.12.4"
  }
 },
 "nbformat": 4,
 "nbformat_minor": 5
}
