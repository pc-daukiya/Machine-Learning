{
 "cells": [
  {
   "cell_type": "code",
   "execution_count": 25,
   "id": "709182d0-6b03-48e0-b24e-decf810eebf0",
   "metadata": {},
   "outputs": [
    {
     "name": "stdout",
     "output_type": "stream",
     "text": [
      "   Train No Station\n",
      "0    345671       A\n",
      "2    345670       C\n",
      "   Train No Station\n",
      "0    345671       A\n",
      "1    345673       B\n",
      "2    345670       C\n"
     ]
    }
   ],
   "source": [
    "import pandas as pd\n",
    "\n",
    "# Sample DataFrame\n",
    "data = {'Train No': [345671, 345673, 345670], 'Station': ['A', 'B', 'C']}\n",
    "\n",
    "df = pd.DataFrame(data)\n",
    "df.to_csv('revision_17th_nov.csv')\n",
    "\n",
    "\n",
    "df.to_csv('revision_17th_nov_index_false.csv', index=False)\n",
    "\n",
    "filtered_df = df[df['Train No'] < 345672]\n",
    "print(filtered_df)\n",
    "\n",
    "\n",
    "newdf = pd.read_csv('revision_17th_nov_index_false.csv')\n",
    "print(newdf)"
   ]
  },
  {
   "cell_type": "code",
   "execution_count": null,
   "id": "e676d448-a3a7-4da8-8388-f44bc4ed6bf2",
   "metadata": {},
   "outputs": [],
   "source": []
  },
  {
   "cell_type": "code",
   "execution_count": null,
   "id": "b4ad556a-93af-4b2f-a37d-5354f0fc556c",
   "metadata": {},
   "outputs": [],
   "source": []
  }
 ],
 "metadata": {
  "kernelspec": {
   "display_name": "Python 3 (ipykernel)",
   "language": "python",
   "name": "python3"
  },
  "language_info": {
   "codemirror_mode": {
    "name": "ipython",
    "version": 3
   },
   "file_extension": ".py",
   "mimetype": "text/x-python",
   "name": "python",
   "nbconvert_exporter": "python",
   "pygments_lexer": "ipython3",
   "version": "3.12.4"
  }
 },
 "nbformat": 4,
 "nbformat_minor": 5
}
